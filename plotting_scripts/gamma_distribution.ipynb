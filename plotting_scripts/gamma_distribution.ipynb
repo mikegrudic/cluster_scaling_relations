{
 "cells": [
  {
   "cell_type": "code",
   "execution_count": 28,
   "metadata": {},
   "outputs": [
    {
     "name": "stdout",
     "output_type": "stream",
     "text": [
      "Using matplotlib backend: TkAgg\n",
      "%pylab is deprecated, use %matplotlib inline and import the required libraries.\n",
      "Populating the interactive namespace from numpy and matplotlib\n"
     ]
    },
    {
     "name": "stderr",
     "output_type": "stream",
     "text": [
      "/Users/mgrudic/anaconda3/lib/python3.11/site-packages/IPython/core/magics/pylab.py:162: UserWarning: pylab import has clobbered these variables: ['gamma']\n",
      "`%matplotlib` prevents importing * from pylab and numpy\n",
      "  warn(\"pylab import has clobbered these variables: %s\"  % clobbered +\n",
      "WARNING: UnitsWarning: The unit 'pix' has been deprecated in the VOUnit standard. [astropy.units.format.utils]\n"
     ]
    }
   ],
   "source": [
    "%pylab\n",
    "from scipy.stats import anderson_ksamp, ks_2samp\n",
    "mass,age,gamma,true_radius,measured_mass_ap,measured_mass_corr,measured_mass_tot,measured_age,measured_age_tot,gamma_measured,scale_radius_measured,r50,gamma_measured_number,scale_radius_measured_number,r50_number,r50_cutoff,r50_king,CI,=np.load(\"../data/mock_mass_radius_measurements_M51.npy\").T\n",
    "plt.figure(figsize=(4,4))\n",
    "gammabins=np.linspace(1,6,31)\n",
    "sampled = (np.random.rand(len(gamma)) < np.exp(-(np.log10(gamma-2)-np.log10(0.6))**2/(2*0.3**2)))\n",
    "\n",
    "gamma_model = gamma_measured[sampled]\n",
    "\n",
    "plt.hist(gamma_model,gammabins,label=\"Model (measured)\",histtype='step',density=True,ls='dashed',color='black',zorder=100)\n",
    "plt.hist(gamma[sampled],gammabins,label=\"Model (true)\",histtype='step',density=True,ls='dotted',color='#222222')\n",
    "plt.xlabel(r'$\\gamma_{\\rm measured}$')\n",
    "plt.ylabel(r\"$\\mathrm{d}N/\\mathrm{d}\\gamma_{\\rm measured}$\")\n",
    "\n",
    "\n",
    "#plt.hist(gamma_model[(measured_mass_ap > 5e3)].clip(2,100),gammabins,histtype='step',label=\"All Model\",density=True,color='black')\n",
    "from gamma_histogram import get_gamma_values\n",
    "data = get_gamma_values(\"BG21 (LEGUS)\") #\n",
    "gamma_obs = np.concatenate([np.array(d[1]) for d in data])\n",
    "plt.hist(gamma_obs,gammabins,histtype='step',label=r\"Obs. (BG21 LEGUS)\",density=True)\n",
    "\n",
    "data = get_gamma_values(\"Ryon+15 (M83)\") + get_gamma_values(\"Ryon+17 (NGC 628,1313)\")\n",
    "gamma_obs = np.concatenate([np.array(d[1]) for d in data])\n",
    "plt.hist(gamma_obs,gammabins,histtype='step',label=r\"Obs. (M83+NGC628+NGC1313)\",density=True)\n",
    "#plt.ecdf(gamma_obs[~np.isnan(gamma_obs)])#,histtype='step',label=r\"(M83+NGC628+NGC1313)\",density=True,color='black',ls='dashed')\n",
    "plt.legend(labelspacing=0,frameon=True)\n",
    "plt.xlim(1,6)\n",
    "#plt.ylim(0,1.5)\n",
    "plt.yscale('log')\n",
    "plt.savefig(\"gamma_measured_distribution.pdf\",bbox_inches='tight',)\n",
    "#plt.text(2,0.8,ks_2samp(gamma_obs[~np.isnan(gamma_obs)].clip(2,6),gamma_model.clip(2,6)).statistic)\n",
    "#print(ks_2samp(model1[model1<10], gamma_obs[~np.isnan(gamma_obs)*(gamma_obs<10)]).statistic)"
   ]
  },
  {
   "cell_type": "code",
   "execution_count": 25,
   "metadata": {},
   "outputs": [
    {
     "name": "stdout",
     "output_type": "stream",
     "text": [
      "2.1000066158915853 11.999761266484876\n",
      "2.1000066158915853 11.999761266484876\n"
     ]
    }
   ],
   "source": [
    "print(gamma.min(), gamma.max())\n",
    "mass,age,gamma,true_radius,measured_mass_ap,measured_mass_corr,measured_mass_tot,measured_age,measured_age_tot,gamma_measured,scale_radius_measured,r50,gamma_measured_number,scale_radius_measured_number,r50_number,r50_cutoff,r50_king,CI,=np.load(\"../data/mock_mass_radius_measurements_M51.npy\").T\n",
    "print(gamma.min(), gamma.max())\n",
    "from scipy.stats import anderson_ksamp, ks_2samp\n",
    "def fit_lossfunc(params):\n",
    "    sampled =  (np.random.rand(len(gamma)) < np.exp(-(np.log10(gamma-2)-np.log10(params[0]))**2/(2*params[1]**2)))\n",
    "    gamma_cut = gamma_measured[sampled] #.clip(2,1e100)\n",
    "    gamma_cut = gamma_cut\n",
    "    if len(gamma_cut)<2: return np.inf\n",
    "    data = get_gamma_values(\"BG21 (LEGUS)\") #\n",
    "    gamma_obs = np.concatenate([np.array(d[1]) for d in data])\n",
    "    return ks_2samp(gamma_obs[~np.isnan(gamma_obs)].clip(2.5,6),gamma_cut.clip(2.5,6)).statistic\n",
    "\n"
   ]
  },
  {
   "cell_type": "code",
   "execution_count": 16,
   "metadata": {},
   "outputs": [
    {
     "data": {
      "text/plain": [
       "0.076851742994117"
      ]
     },
     "execution_count": 16,
     "metadata": {},
     "output_type": "execute_result"
    }
   ],
   "source": [
    "fit_lossfunc((0.6, 0.3))"
   ]
  },
  {
   "cell_type": "code",
   "execution_count": 140,
   "metadata": {},
   "outputs": [
    {
     "data": {
      "text/plain": [
       "(array([   5.,  112.,  587., 2051., 3703., 3512., 1922.,  533.,   70.,\n",
       "           9.]),\n",
       " array([-0.22126694, -0.14108471, -0.06090248,  0.01927974,  0.09946197,\n",
       "         0.17964419,  0.25982642,  0.34000864,  0.42019087,  0.5003731 ,\n",
       "         0.58055532]),\n",
       " <BarContainer object of 10 artists>)"
      ]
     },
     "execution_count": 140,
     "metadata": {},
     "output_type": "execute_result"
    }
   ],
   "source": [
    "sampled = np.random.rand(len(gamma)) < np.exp(-(np.log10(gamma-2)-np.log10(1.5))**2/(2*0.1**2))\n",
    "plt.hist(np.log10(gamma[sampled]-2))"
   ]
  },
  {
   "cell_type": "code",
   "execution_count": 27,
   "metadata": {},
   "outputs": [
    {
     "name": "stderr",
     "output_type": "stream",
     "text": [
      "/tmp/ipykernel_1033564/3798781600.py:6: RuntimeWarning: invalid value encountered in log10\n",
      "  sampled =  (np.random.rand(len(gamma)) < np.exp(-(np.log10(gamma-2)-np.log10(params[0]))**2/(2*params[1]**2)))\n",
      "/tmp/ipykernel_1033564/3798781600.py:6: RuntimeWarning: invalid value encountered in less\n",
      "  sampled =  (np.random.rand(len(gamma)) < np.exp(-(np.log10(gamma-2)-np.log10(params[0]))**2/(2*params[1]**2)))\n"
     ]
    },
    {
     "ename": "KeyboardInterrupt",
     "evalue": "",
     "output_type": "error",
     "traceback": [
      "\u001b[0;31m---------------------------------------------------------------------------\u001b[0m",
      "\u001b[0;31mKeyboardInterrupt\u001b[0m                         Traceback (most recent call last)",
      "Cell \u001b[0;32mIn[27], line 3\u001b[0m\n\u001b[1;32m      1\u001b[0m mu \u001b[38;5;241m=\u001b[39m np\u001b[38;5;241m.\u001b[39mrandom\u001b[38;5;241m.\u001b[39muniform(\u001b[38;5;241m-\u001b[39m\u001b[38;5;241m1\u001b[39m,\u001b[38;5;241m1\u001b[39m,\u001b[38;5;241m10\u001b[39m\u001b[38;5;241m*\u001b[39m\u001b[38;5;241m*\u001b[39m\u001b[38;5;241m3\u001b[39m)\n\u001b[1;32m      2\u001b[0m sigma \u001b[38;5;241m=\u001b[39m \u001b[38;5;241m10\u001b[39m\u001b[38;5;241m*\u001b[39m\u001b[38;5;241m*\u001b[39mnp\u001b[38;5;241m.\u001b[39mrandom\u001b[38;5;241m.\u001b[39muniform(\u001b[38;5;241m-\u001b[39m\u001b[38;5;241m1\u001b[39m,\u001b[38;5;241m0\u001b[39m,\u001b[38;5;241m10\u001b[39m\u001b[38;5;241m*\u001b[39m\u001b[38;5;241m*\u001b[39m\u001b[38;5;241m3\u001b[39m)\n\u001b[0;32m----> 3\u001b[0m l \u001b[38;5;241m=\u001b[39m np\u001b[38;5;241m.\u001b[39marray([fit_lossfunc((a,s)) \u001b[38;5;28;01mfor\u001b[39;00m a,s \u001b[38;5;129;01min\u001b[39;00m \u001b[38;5;28mzip\u001b[39m(mu, sigma)])\n\u001b[1;32m      4\u001b[0m mu[l\u001b[38;5;241m.\u001b[39margmin()], sigma[l\u001b[38;5;241m.\u001b[39margmin()], l\u001b[38;5;241m.\u001b[39mmin()\n",
      "Cell \u001b[0;32mIn[27], line 3\u001b[0m, in \u001b[0;36m<listcomp>\u001b[0;34m(.0)\u001b[0m\n\u001b[1;32m      1\u001b[0m mu \u001b[38;5;241m=\u001b[39m np\u001b[38;5;241m.\u001b[39mrandom\u001b[38;5;241m.\u001b[39muniform(\u001b[38;5;241m-\u001b[39m\u001b[38;5;241m1\u001b[39m,\u001b[38;5;241m1\u001b[39m,\u001b[38;5;241m10\u001b[39m\u001b[38;5;241m*\u001b[39m\u001b[38;5;241m*\u001b[39m\u001b[38;5;241m3\u001b[39m)\n\u001b[1;32m      2\u001b[0m sigma \u001b[38;5;241m=\u001b[39m \u001b[38;5;241m10\u001b[39m\u001b[38;5;241m*\u001b[39m\u001b[38;5;241m*\u001b[39mnp\u001b[38;5;241m.\u001b[39mrandom\u001b[38;5;241m.\u001b[39muniform(\u001b[38;5;241m-\u001b[39m\u001b[38;5;241m1\u001b[39m,\u001b[38;5;241m0\u001b[39m,\u001b[38;5;241m10\u001b[39m\u001b[38;5;241m*\u001b[39m\u001b[38;5;241m*\u001b[39m\u001b[38;5;241m3\u001b[39m)\n\u001b[0;32m----> 3\u001b[0m l \u001b[38;5;241m=\u001b[39m np\u001b[38;5;241m.\u001b[39marray([\u001b[43mfit_lossfunc\u001b[49m\u001b[43m(\u001b[49m\u001b[43m(\u001b[49m\u001b[43ma\u001b[49m\u001b[43m,\u001b[49m\u001b[43ms\u001b[49m\u001b[43m)\u001b[49m\u001b[43m)\u001b[49m \u001b[38;5;28;01mfor\u001b[39;00m a,s \u001b[38;5;129;01min\u001b[39;00m \u001b[38;5;28mzip\u001b[39m(mu, sigma)])\n\u001b[1;32m      4\u001b[0m mu[l\u001b[38;5;241m.\u001b[39margmin()], sigma[l\u001b[38;5;241m.\u001b[39margmin()], l\u001b[38;5;241m.\u001b[39mmin()\n",
      "Cell \u001b[0;32mIn[25], line 10\u001b[0m, in \u001b[0;36mfit_lossfunc\u001b[0;34m(params)\u001b[0m\n\u001b[1;32m      8\u001b[0m gamma_cut \u001b[38;5;241m=\u001b[39m gamma_cut\n\u001b[1;32m      9\u001b[0m \u001b[38;5;28;01mif\u001b[39;00m \u001b[38;5;28mlen\u001b[39m(gamma_cut)\u001b[38;5;241m<\u001b[39m\u001b[38;5;241m2\u001b[39m: \u001b[38;5;28;01mreturn\u001b[39;00m np\u001b[38;5;241m.\u001b[39minf\n\u001b[0;32m---> 10\u001b[0m data \u001b[38;5;241m=\u001b[39m \u001b[43mget_gamma_values\u001b[49m\u001b[43m(\u001b[49m\u001b[38;5;124;43m\"\u001b[39;49m\u001b[38;5;124;43mBG21 (LEGUS)\u001b[39;49m\u001b[38;5;124;43m\"\u001b[39;49m\u001b[43m)\u001b[49m \u001b[38;5;66;03m#\u001b[39;00m\n\u001b[1;32m     11\u001b[0m gamma_obs \u001b[38;5;241m=\u001b[39m np\u001b[38;5;241m.\u001b[39mconcatenate([np\u001b[38;5;241m.\u001b[39marray(d[\u001b[38;5;241m1\u001b[39m]) \u001b[38;5;28;01mfor\u001b[39;00m d \u001b[38;5;129;01min\u001b[39;00m data])\n\u001b[1;32m     12\u001b[0m \u001b[38;5;28;01mreturn\u001b[39;00m ks_2samp(gamma_obs[\u001b[38;5;241m~\u001b[39mnp\u001b[38;5;241m.\u001b[39misnan(gamma_obs)]\u001b[38;5;241m.\u001b[39mclip(\u001b[38;5;241m2.5\u001b[39m,\u001b[38;5;241m6\u001b[39m),gamma_cut\u001b[38;5;241m.\u001b[39mclip(\u001b[38;5;241m2.5\u001b[39m,\u001b[38;5;241m6\u001b[39m))\u001b[38;5;241m.\u001b[39mstatistic\n",
      "File \u001b[0;32m~/code/cluster_scaling_relations/plotting_scripts/gamma_histogram.py:39\u001b[0m, in \u001b[0;36mget_gamma_values\u001b[0;34m(ref, agemin, agemax)\u001b[0m\n\u001b[1;32m     37\u001b[0m     \u001b[38;5;28;01mreturn\u001b[39;00m result\n\u001b[1;32m     38\u001b[0m \u001b[38;5;28;01mif\u001b[39;00m ref \u001b[38;5;241m==\u001b[39m \u001b[38;5;124m\"\u001b[39m\u001b[38;5;124mBG21 (LEGUS)\u001b[39m\u001b[38;5;124m\"\u001b[39m:\n\u001b[0;32m---> 39\u001b[0m     data \u001b[38;5;241m=\u001b[39m \u001b[43mTable\u001b[49m\u001b[38;5;241;43m.\u001b[39;49m\u001b[43mread\u001b[49m\u001b[43m(\u001b[49m\n\u001b[1;32m     40\u001b[0m \u001b[43m        \u001b[49m\u001b[43mDATA_PATH\u001b[49m\u001b[43m \u001b[49m\u001b[38;5;241;43m+\u001b[39;49m\u001b[43m \u001b[49m\u001b[38;5;124;43m\"\u001b[39;49m\u001b[38;5;124;43mcluster_sizes_brown_gnedin_21.txt\u001b[39;49m\u001b[38;5;124;43m\"\u001b[39;49m\u001b[43m,\u001b[49m\u001b[43m \u001b[49m\u001b[38;5;28;43mformat\u001b[39;49m\u001b[38;5;241;43m=\u001b[39;49m\u001b[38;5;124;43m\"\u001b[39;49m\u001b[38;5;124;43mascii.ecsv\u001b[39;49m\u001b[38;5;124;43m\"\u001b[39;49m\n\u001b[1;32m     41\u001b[0m \u001b[43m    \u001b[49m\u001b[43m)\u001b[49m\n\u001b[1;32m     42\u001b[0m     result \u001b[38;5;241m=\u001b[39m []\n\u001b[1;32m     43\u001b[0m     \u001b[38;5;28;01mfor\u001b[39;00m gal \u001b[38;5;129;01min\u001b[39;00m np\u001b[38;5;241m.\u001b[39munique(data[\u001b[38;5;124m\"\u001b[39m\u001b[38;5;124mgalaxy\u001b[39m\u001b[38;5;124m\"\u001b[39m]):\n",
      "File \u001b[0;32m~/.local/lib/python3.9/site-packages/astropy/table/connect.py:62\u001b[0m, in \u001b[0;36mTableRead.__call__\u001b[0;34m(self, *args, **kwargs)\u001b[0m\n\u001b[1;32m     59\u001b[0m units \u001b[38;5;241m=\u001b[39m kwargs\u001b[38;5;241m.\u001b[39mpop(\u001b[38;5;124m\"\u001b[39m\u001b[38;5;124munits\u001b[39m\u001b[38;5;124m\"\u001b[39m, \u001b[38;5;28;01mNone\u001b[39;00m)\n\u001b[1;32m     60\u001b[0m descriptions \u001b[38;5;241m=\u001b[39m kwargs\u001b[38;5;241m.\u001b[39mpop(\u001b[38;5;124m\"\u001b[39m\u001b[38;5;124mdescriptions\u001b[39m\u001b[38;5;124m\"\u001b[39m, \u001b[38;5;28;01mNone\u001b[39;00m)\n\u001b[0;32m---> 62\u001b[0m out \u001b[38;5;241m=\u001b[39m \u001b[38;5;28;43mself\u001b[39;49m\u001b[38;5;241;43m.\u001b[39;49m\u001b[43mregistry\u001b[49m\u001b[38;5;241;43m.\u001b[39;49m\u001b[43mread\u001b[49m\u001b[43m(\u001b[49m\u001b[38;5;28;43mcls\u001b[39;49m\u001b[43m,\u001b[49m\u001b[43m \u001b[49m\u001b[38;5;241;43m*\u001b[39;49m\u001b[43margs\u001b[49m\u001b[43m,\u001b[49m\u001b[43m \u001b[49m\u001b[38;5;241;43m*\u001b[39;49m\u001b[38;5;241;43m*\u001b[39;49m\u001b[43mkwargs\u001b[49m\u001b[43m)\u001b[49m\n\u001b[1;32m     64\u001b[0m \u001b[38;5;66;03m# For some readers (e.g., ascii.ecsv), the returned `out` class is not\u001b[39;00m\n\u001b[1;32m     65\u001b[0m \u001b[38;5;66;03m# guaranteed to be the same as the desired output `cls`.  If so,\u001b[39;00m\n\u001b[1;32m     66\u001b[0m \u001b[38;5;66;03m# try coercing to desired class without copying (io.registry.read\u001b[39;00m\n\u001b[1;32m     67\u001b[0m \u001b[38;5;66;03m# would normally do a copy).  The normal case here is swapping\u001b[39;00m\n\u001b[1;32m     68\u001b[0m \u001b[38;5;66;03m# Table <=> QTable.\u001b[39;00m\n\u001b[1;32m     69\u001b[0m \u001b[38;5;28;01mif\u001b[39;00m \u001b[38;5;28mcls\u001b[39m \u001b[38;5;129;01mis\u001b[39;00m \u001b[38;5;129;01mnot\u001b[39;00m out\u001b[38;5;241m.\u001b[39m\u001b[38;5;18m__class__\u001b[39m:\n",
      "File \u001b[0;32m~/.local/lib/python3.9/site-packages/astropy/io/registry/core.py:218\u001b[0m, in \u001b[0;36mUnifiedInputRegistry.read\u001b[0;34m(self, cls, format, cache, *args, **kwargs)\u001b[0m\n\u001b[1;32m    213\u001b[0m     \u001b[38;5;28mformat\u001b[39m \u001b[38;5;241m=\u001b[39m \u001b[38;5;28mself\u001b[39m\u001b[38;5;241m.\u001b[39m_get_valid_format(\n\u001b[1;32m    214\u001b[0m         \u001b[38;5;124m\"\u001b[39m\u001b[38;5;124mread\u001b[39m\u001b[38;5;124m\"\u001b[39m, \u001b[38;5;28mcls\u001b[39m, path, fileobj, args, kwargs\n\u001b[1;32m    215\u001b[0m     )\n\u001b[1;32m    217\u001b[0m reader \u001b[38;5;241m=\u001b[39m \u001b[38;5;28mself\u001b[39m\u001b[38;5;241m.\u001b[39mget_reader(\u001b[38;5;28mformat\u001b[39m, \u001b[38;5;28mcls\u001b[39m)\n\u001b[0;32m--> 218\u001b[0m data \u001b[38;5;241m=\u001b[39m \u001b[43mreader\u001b[49m\u001b[43m(\u001b[49m\u001b[38;5;241;43m*\u001b[39;49m\u001b[43margs\u001b[49m\u001b[43m,\u001b[49m\u001b[43m \u001b[49m\u001b[38;5;241;43m*\u001b[39;49m\u001b[38;5;241;43m*\u001b[39;49m\u001b[43mkwargs\u001b[49m\u001b[43m)\u001b[49m\n\u001b[1;32m    220\u001b[0m \u001b[38;5;28;01mif\u001b[39;00m \u001b[38;5;129;01mnot\u001b[39;00m \u001b[38;5;28misinstance\u001b[39m(data, \u001b[38;5;28mcls\u001b[39m):\n\u001b[1;32m    221\u001b[0m     \u001b[38;5;66;03m# User has read with a subclass where only the parent class is\u001b[39;00m\n\u001b[1;32m    222\u001b[0m     \u001b[38;5;66;03m# registered.  This returns the parent class, so try coercing\u001b[39;00m\n\u001b[1;32m    223\u001b[0m     \u001b[38;5;66;03m# to desired subclass.\u001b[39;00m\n\u001b[1;32m    224\u001b[0m     \u001b[38;5;28;01mtry\u001b[39;00m:\n",
      "File \u001b[0;32m~/.local/lib/python3.9/site-packages/astropy/io/ascii/connect.py:19\u001b[0m, in \u001b[0;36mio_read\u001b[0;34m(format, filename, **kwargs)\u001b[0m\n\u001b[1;32m     17\u001b[0m     \u001b[38;5;28mformat\u001b[39m \u001b[38;5;241m=\u001b[39m re\u001b[38;5;241m.\u001b[39msub(\u001b[38;5;124mr\u001b[39m\u001b[38;5;124m\"\u001b[39m\u001b[38;5;124m^ascii\u001b[39m\u001b[38;5;124m\\\u001b[39m\u001b[38;5;124m.\u001b[39m\u001b[38;5;124m\"\u001b[39m, \u001b[38;5;124m\"\u001b[39m\u001b[38;5;124m\"\u001b[39m, \u001b[38;5;28mformat\u001b[39m)\n\u001b[1;32m     18\u001b[0m     kwargs[\u001b[38;5;124m\"\u001b[39m\u001b[38;5;124mformat\u001b[39m\u001b[38;5;124m\"\u001b[39m] \u001b[38;5;241m=\u001b[39m \u001b[38;5;28mformat\u001b[39m\n\u001b[0;32m---> 19\u001b[0m \u001b[38;5;28;01mreturn\u001b[39;00m \u001b[43mread\u001b[49m\u001b[43m(\u001b[49m\u001b[43mfilename\u001b[49m\u001b[43m,\u001b[49m\u001b[43m \u001b[49m\u001b[38;5;241;43m*\u001b[39;49m\u001b[38;5;241;43m*\u001b[39;49m\u001b[43mkwargs\u001b[49m\u001b[43m)\u001b[49m\n",
      "File \u001b[0;32m~/.local/lib/python3.9/site-packages/astropy/io/ascii/ui.py:426\u001b[0m, in \u001b[0;36mread\u001b[0;34m(table, guess, **kwargs)\u001b[0m\n\u001b[1;32m    424\u001b[0m     \u001b[38;5;28;01melse\u001b[39;00m:\n\u001b[1;32m    425\u001b[0m         reader \u001b[38;5;241m=\u001b[39m get_reader(\u001b[38;5;241m*\u001b[39m\u001b[38;5;241m*\u001b[39mnew_kwargs)\n\u001b[0;32m--> 426\u001b[0m         dat \u001b[38;5;241m=\u001b[39m \u001b[43mreader\u001b[49m\u001b[38;5;241;43m.\u001b[39;49m\u001b[43mread\u001b[49m\u001b[43m(\u001b[49m\u001b[43mtable\u001b[49m\u001b[43m)\u001b[49m\n\u001b[1;32m    427\u001b[0m         _read_trace\u001b[38;5;241m.\u001b[39mappend(\n\u001b[1;32m    428\u001b[0m             {\n\u001b[1;32m    429\u001b[0m                 \u001b[38;5;124m\"\u001b[39m\u001b[38;5;124mkwargs\u001b[39m\u001b[38;5;124m\"\u001b[39m: copy\u001b[38;5;241m.\u001b[39mdeepcopy(new_kwargs),\n\u001b[0;32m   (...)\u001b[0m\n\u001b[1;32m    432\u001b[0m             }\n\u001b[1;32m    433\u001b[0m         )\n\u001b[1;32m    435\u001b[0m \u001b[38;5;66;03m# Static analysis (pyright) indicates `dat` might be left undefined, so just\u001b[39;00m\n\u001b[1;32m    436\u001b[0m \u001b[38;5;66;03m# to be sure define it at the beginning and check here.\u001b[39;00m\n",
      "File \u001b[0;32m~/.local/lib/python3.9/site-packages/astropy/io/ascii/core.py:1432\u001b[0m, in \u001b[0;36mBaseReader.read\u001b[0;34m(self, table)\u001b[0m\n\u001b[1;32m   1429\u001b[0m \u001b[38;5;28mself\u001b[39m\u001b[38;5;241m.\u001b[39mdata\u001b[38;5;241m.\u001b[39msplitter\u001b[38;5;241m.\u001b[39mcols \u001b[38;5;241m=\u001b[39m cols\n\u001b[1;32m   1430\u001b[0m n_cols \u001b[38;5;241m=\u001b[39m \u001b[38;5;28mlen\u001b[39m(cols)\n\u001b[0;32m-> 1432\u001b[0m \u001b[38;5;28;01mfor\u001b[39;00m i, str_vals \u001b[38;5;129;01min\u001b[39;00m \u001b[38;5;28menumerate\u001b[39m(\u001b[38;5;28mself\u001b[39m\u001b[38;5;241m.\u001b[39mdata\u001b[38;5;241m.\u001b[39mget_str_vals()):\n\u001b[1;32m   1433\u001b[0m     \u001b[38;5;28;01mif\u001b[39;00m \u001b[38;5;28mlen\u001b[39m(str_vals) \u001b[38;5;241m!=\u001b[39m n_cols:\n\u001b[1;32m   1434\u001b[0m         str_vals \u001b[38;5;241m=\u001b[39m \u001b[38;5;28mself\u001b[39m\u001b[38;5;241m.\u001b[39minconsistent_handler(str_vals, n_cols)\n",
      "File \u001b[0;32m~/.local/lib/python3.9/site-packages/astropy/io/ascii/core.py:499\u001b[0m, in \u001b[0;36mDefaultSplitter.__call__\u001b[0;34m(self, lines)\u001b[0m\n\u001b[1;32m    488\u001b[0m delimiter \u001b[38;5;241m=\u001b[39m \u001b[38;5;124m\"\u001b[39m\u001b[38;5;124m \u001b[39m\u001b[38;5;124m\"\u001b[39m \u001b[38;5;28;01mif\u001b[39;00m \u001b[38;5;28mself\u001b[39m\u001b[38;5;241m.\u001b[39mdelimiter \u001b[38;5;241m==\u001b[39m \u001b[38;5;124mr\u001b[39m\u001b[38;5;124m\"\u001b[39m\u001b[38;5;124m\\\u001b[39m\u001b[38;5;124ms\u001b[39m\u001b[38;5;124m\"\u001b[39m \u001b[38;5;28;01melse\u001b[39;00m \u001b[38;5;28mself\u001b[39m\u001b[38;5;241m.\u001b[39mdelimiter\n\u001b[1;32m    490\u001b[0m csv_reader \u001b[38;5;241m=\u001b[39m csv\u001b[38;5;241m.\u001b[39mreader(\n\u001b[1;32m    491\u001b[0m     lines,\n\u001b[1;32m    492\u001b[0m     delimiter\u001b[38;5;241m=\u001b[39mdelimiter,\n\u001b[0;32m   (...)\u001b[0m\n\u001b[1;32m    497\u001b[0m     skipinitialspace\u001b[38;5;241m=\u001b[39m\u001b[38;5;28mself\u001b[39m\u001b[38;5;241m.\u001b[39mskipinitialspace,\n\u001b[1;32m    498\u001b[0m )\n\u001b[0;32m--> 499\u001b[0m \u001b[38;5;28;01mfor\u001b[39;00m vals \u001b[38;5;129;01min\u001b[39;00m csv_reader:\n\u001b[1;32m    500\u001b[0m     \u001b[38;5;28;01mif\u001b[39;00m \u001b[38;5;28mself\u001b[39m\u001b[38;5;241m.\u001b[39mprocess_val:\n\u001b[1;32m    501\u001b[0m         \u001b[38;5;28;01myield\u001b[39;00m [\u001b[38;5;28mself\u001b[39m\u001b[38;5;241m.\u001b[39mprocess_val(x) \u001b[38;5;28;01mfor\u001b[39;00m x \u001b[38;5;129;01min\u001b[39;00m vals]\n",
      "\u001b[0;31mKeyboardInterrupt\u001b[0m: "
     ]
    }
   ],
   "source": [
    "mu = np.random.uniform(-1,1,10**3)\n",
    "sigma = 10**np.random.uniform(-1,0,10**3)\n",
    "l = np.array([fit_lossfunc((a,s)) for a,s in zip(mu, sigma)])\n",
    "mu[l.argmin()], sigma[l.argmin()], l.min()"
   ]
  },
  {
   "cell_type": "code",
   "execution_count": 6,
   "metadata": {},
   "outputs": [
    {
     "data": {
      "text/plain": [
       "(1.1931249737614111, 1.082510126698507, 0.07766323302120604)"
      ]
     },
     "execution_count": 6,
     "metadata": {},
     "output_type": "execute_result"
    }
   ],
   "source": [
    "mu[l.argmin()], sigma[l.argmin()], l.min()"
   ]
  },
  {
   "cell_type": "code",
   "execution_count": 127,
   "metadata": {},
   "outputs": [
    {
     "data": {
      "text/plain": [
       "0.08003149003710988"
      ]
     },
     "execution_count": 127,
     "metadata": {},
     "output_type": "execute_result"
    }
   ],
   "source": [
    "l.min()"
   ]
  },
  {
   "cell_type": "code",
   "execution_count": null,
   "metadata": {},
   "outputs": [],
   "source": []
  }
 ],
 "metadata": {
  "kernelspec": {
   "display_name": "2023.2.0",
   "language": "python",
   "name": "python3"
  },
  "language_info": {
   "codemirror_mode": {
    "name": "ipython",
    "version": 3
   },
   "file_extension": ".py",
   "mimetype": "text/x-python",
   "name": "python",
   "nbconvert_exporter": "python",
   "pygments_lexer": "ipython3",
   "version": "3.11.4"
  }
 },
 "nbformat": 4,
 "nbformat_minor": 2
}
